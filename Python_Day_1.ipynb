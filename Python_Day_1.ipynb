{
  "cells": [
    {
      "cell_type": "markdown",
      "metadata": {
        "id": "view-in-github",
        "colab_type": "text"
      },
      "source": [
        "<a href=\"https://colab.research.google.com/github/DINESHPANDIAN-J/Audio-Speech-Recognition/blob/main/Python_Day_1.ipynb\" target=\"_parent\"><img src=\"https://colab.research.google.com/assets/colab-badge.svg\" alt=\"Open In Colab\"/></a>"
      ]
    },
    {
      "cell_type": "markdown",
      "metadata": {
        "id": "uAsiFXX3SLj1"
      },
      "source": [
        "# Python Introduction\n",
        "\n",
        "\n",
        "> Python is a high-level(closer to human language), interpreted programming language known for its simplicity, readability, and versatility.\n",
        "- It is widely used by for a variety of tasks including\n",
        "  1.   data analysis\n",
        "  2.   web development\n",
        "  1.   artificial intelligence\n",
        "  2.   automation and more.\n",
        "\n",
        "\n",
        "---\n",
        "\n",
        "\n",
        "**Key Features of Python:**\n",
        "*   Easy to Read and Write: Its syntax is clear and resembles English.\n",
        "*   Interpreted Language: You don’t need to compile it—just run the code directly.\n",
        "*   Dynamically Typed: You don’t have to declare variable types.\n",
        "*   Large Standard Library: Comes with a rich set of built-in modules.\n",
        "*   Extensive Community Support: Tons of tutorials, documentation, and packages (via PyPI).\n",
        "*   Cross-platform: Works on Windows, Mac, Linux.\n",
        "\n",
        "\n",
        "\n",
        "\n",
        "\n",
        "\n",
        "\n",
        "\n",
        "\n",
        "\n",
        "\n",
        "\n",
        "\n",
        "\n",
        "\n",
        "\n",
        "\n",
        "\n",
        "\n"
      ]
    },
    {
      "cell_type": "markdown",
      "metadata": {
        "id": "1IfCLANlafGc"
      },
      "source": [
        "**1. Compiling vs Interpreting**\n",
        "\n",
        "| Aspect           | Compiled Language                                                    | Interpreted Language                                     |\n",
        "| ---------------- | -------------------------------------------------------------------- | -------------------------------------------------------- |\n",
        "| **What happens** | The entire code is converted into machine code **before** execution. | The code is **executed line by line** by an interpreter. |\n",
        "| **Output**       | Generates a separate `.exe` or binary file.                          | No separate output file; runs the script directly.       |\n",
        "| **Languages**    | C, C++, Java (partially)                                             | Python, JavaScript, Ruby                                 |\n",
        "| **Speed**        | Usually faster after compiling.                                      | Slightly slower, but easier to test/debug.               |\n",
        "\n",
        "\n",
        "---\n",
        "\n",
        "\n",
        "⚡ **Why Compiled Code is Faster (Despite the Extra Step)**\n",
        "\n",
        "🔹 1. Compilation is One-Time, Execution is Many-Times\n",
        "The compilation step happens once, converting your human-readable code into optimized machine code.\n",
        "\n",
        "That machine code (binary) is then executed directly by the CPU, which is extremely fast.\n",
        "\n",
        "🔹 In contrast, an interpreter reads and analyzes your code every single time you run it, line by line.\n",
        "\n",
        "\n",
        "\n",
        "---\n",
        "\n",
        "📘 Example:\n",
        "\n",
        "🔸 **Compiled:**\n",
        "\n",
        "Imagine you write a C program that takes 1 second to compile and 0.1 seconds to run.\n",
        "\n",
        "If you run it 1000 times:\n",
        "\n",
        "Compile time: 1 sec (once)\n",
        "\n",
        "Run time: 1000 × 0.1 = 100 sec\n",
        "\n",
        "Total: 101 sec\n",
        "\n",
        "🔸 **Interpreted:**\n",
        "\n",
        "Same logic in Python, interpreted each time:\n",
        "\n",
        "No compile time\n",
        "\n",
        "Each run takes 0.5 seconds\n",
        "\n",
        "Total: 1000 × 0.5 = 500 sec\n",
        "\n",
        "➡️ Even though the interpreter skipped compiling, it has to re-analyze the code on every run, making it slower in the long run.\n",
        "\n",
        "\n"
      ]
    },
    {
      "cell_type": "markdown",
      "metadata": {
        "id": "agnOYyfxcy0R"
      },
      "source": [
        "# Hello World!"
      ]
    },
    {
      "cell_type": "code",
      "execution_count": null,
      "metadata": {
        "colab": {
          "base_uri": "https://localhost:8080/"
        },
        "id": "4vnYEKyeW9tf",
        "outputId": "6ee0e044-76f9-4869-dd56-6dcbf4919361"
      },
      "outputs": [
        {
          "output_type": "stream",
          "name": "stdout",
          "text": [
            "Hello univerese!\n"
          ]
        }
      ],
      "source": [
        "print('Hello univerese!')"
      ]
    },
    {
      "cell_type": "markdown",
      "metadata": {
        "id": "vt2BqQWbdUUM"
      },
      "source": [
        "# 📦 Variables\n",
        "\n",
        "Think of a variable like a **box that stores data**. You can name the box and put anything inside it.\n"
      ]
    },
    {
      "cell_type": "code",
      "execution_count": null,
      "metadata": {
        "colab": {
          "base_uri": "https://localhost:8080/"
        },
        "id": "ltsYzZ_Tc8T2",
        "outputId": "32c54ae8-f433-4d16-ad50-91b24c0b1ce8"
      },
      "outputs": [
        {
          "output_type": "stream",
          "name": "stdout",
          "text": [
            "Andrew\n",
            "25\n",
            "5.6\n"
          ]
        }
      ],
      "source": [
        "name = \"Andrew\"\n",
        "age = 25\n",
        "height = 5.6\n",
        "\n",
        "print(name)\n",
        "print(age)\n",
        "print(height)"
      ]
    },
    {
      "cell_type": "markdown",
      "metadata": {
        "id": "85XCezhgCmNb"
      },
      "source": [
        "**Getting Input:**"
      ]
    },
    {
      "cell_type": "code",
      "execution_count": null,
      "metadata": {
        "colab": {
          "base_uri": "https://localhost:8080/"
        },
        "id": "9pdKQH5DCj3T",
        "outputId": "c9a7cf08-c72e-456d-8106-363263619795"
      },
      "outputs": [
        {
          "output_type": "stream",
          "name": "stdout",
          "text": [
            "Enter ur name:dhoni\n",
            "Your Entered Name is:  dhoni\n"
          ]
        }
      ],
      "source": [
        "Name = input()\n",
        "print(\"Your Entered Name is: \",Name)"
      ]
    },
    {
      "cell_type": "markdown",
      "metadata": {
        "id": "OWlCqfsmmXhc"
      },
      "source": [
        "# ✅ Rules & Best Practices for Naming Variables in Python.\n",
        "**🔹 1. Variable names must start with a letter or underscore**\n",
        "\n",
        "- name = \"Alice\"     # ✅ OK\n",
        "- _name = \"Bob\"      # ✅ OK\n",
        "- 1name = \"Tom\"      # ❌ Error! Cannot start with a number\n",
        "\n",
        "\n",
        "---\n",
        "\n",
        "\n",
        "**🔹 2. Variable names can only contain letters, numbers, and underscores (_)**\n",
        "\n",
        "- user1 = \"Asha\"     # ✅ OK\n",
        "- user_name = \"Raj\"  # ✅ OK\n",
        "- user-name = \"Ram\"  # ❌ Error! Hyphens not allowed\n",
        "\n",
        "\n",
        "---\n",
        "\n",
        "\n",
        "**🔹 3. Python is case-sensitive**\n",
        "\n",
        "- name = \"John\"\n",
        "- Name = \"Doe\"\n",
        "\n",
        "- print(name)  # Outputs: John\n",
        "- print(Name)  # Outputs: Doe\n",
        "\n",
        "\n",
        "\n",
        "---\n",
        "**🔹 4. Avoid using Python keywords as variable names**\n",
        "\n",
        "- ❌ These are reserved words and can't be used:\n",
        "- if, else, while, for, def, class, return, import, True, False, etc.\n",
        "\n",
        "- def = 5      # ❌ Error\n",
        "- class = \"A\"  # ❌ Error\n",
        "\n",
        "\n",
        "---\n",
        "\n",
        "**🔹 5. Use meaningful names (avoid single letters unless in short loops)**\n",
        "\n",
        "✅ Good\n",
        "- user_age = 25\n",
        "- total_price = 199.99\n",
        "\n",
        "❌ Bad\n",
        "- x = 25\n",
        "- tp = 199.99\n",
        "\n",
        "\n",
        "\n",
        "\n"
      ]
    },
    {
      "cell_type": "markdown",
      "metadata": {
        "id": "bNT3IYXHoU2c"
      },
      "source": [
        "# 🆎**Multi Words Variable Names**\n",
        "Variable names with more than one word can be difficult to read.\n",
        "\n",
        "**Camel Case**\n",
        "- Each word, except the first, starts with a capital letter:\n",
        "\n",
        "- myVariableName = \"John\"\n",
        "\n",
        "**Pascal Case**\n",
        "- Each word starts with a capital letter:\n",
        "\n",
        "- MyVariableName = \"John\"\n",
        "\n",
        "**Snake Case**\n",
        "- Each word is separated by an underscore character:\n",
        "\n",
        "- my_variable_name = \"John\""
      ]
    },
    {
      "cell_type": "markdown",
      "metadata": {
        "id": "e-E4dG7XdnFE"
      },
      "source": [
        "# 🔢 Lesson 3: Data Types in Python\n",
        "\n",
        "Python understands different types of data:\n",
        "- `str` = text → `\"Hello\"`\n",
        "- `int` = whole numbers → `10`\n",
        "- `float` = decimal numbers → `3.14`\n",
        "- `bool` = True or False\n",
        "\n",
        "\n",
        "---\n",
        "\n",
        "\n",
        "**Use `type()` to check the data type:**"
      ]
    },
    {
      "cell_type": "code",
      "execution_count": null,
      "metadata": {
        "colab": {
          "base_uri": "https://localhost:8080/"
        },
        "id": "sb9JzJkkdix4",
        "outputId": "9c778b5f-117b-4694-a95d-1c4a691be513"
      },
      "outputs": [
        {
          "data": {
            "text/plain": [
              "int"
            ]
          },
          "execution_count": 9,
          "metadata": {},
          "output_type": "execute_result"
        }
      ],
      "source": [
        "x = 10\n",
        "y = \"Python\"\n",
        "z = 3.14\n",
        "is_happy = True\n",
        "\n",
        "type(x)"
      ]
    },
    {
      "cell_type": "markdown",
      "metadata": {
        "id": "X4y12P47lIVb"
      },
      "source": [
        "# 🔐Casting\n",
        "If you want to specify the data type of a variable, this can be done with casting."
      ]
    },
    {
      "cell_type": "code",
      "execution_count": null,
      "metadata": {
        "colab": {
          "base_uri": "https://localhost:8080/"
        },
        "id": "oaFOyzzilroN",
        "outputId": "1d68d354-b5c2-4b92-804f-38849810e15c"
      },
      "outputs": [
        {
          "data": {
            "text/plain": [
              "int"
            ]
          },
          "execution_count": 11,
          "metadata": {},
          "output_type": "execute_result"
        }
      ],
      "source": [
        "x = str(3)    # x will be '3'\n",
        "y = int(3)    # y will be 3\n",
        "z = float(3)  # z will be 3.0"
      ]
    },
    {
      "cell_type": "markdown",
      "metadata": {
        "id": "_BElrWcTeKFF"
      },
      "source": [
        "# ➕ Lesson 4: Operators\n",
        "\n",
        "You can do math like a calculator:"
      ]
    },
    {
      "cell_type": "code",
      "execution_count": null,
      "metadata": {
        "colab": {
          "base_uri": "https://localhost:8080/"
        },
        "id": "euvLC9zod01W",
        "outputId": "621e9736-92f8-4453-f486-e8da8a55d34a"
      },
      "outputs": [
        {
          "data": {
            "text/plain": [
              "int"
            ]
          },
          "execution_count": 7,
          "metadata": {},
          "output_type": "execute_result"
        }
      ],
      "source": [
        "a = 10\n",
        "b = 3\n",
        "\n",
        "print(a + b)  # addition\n",
        "print(a - b)  # subtraction\n",
        "print(a * b)  # multiplication\n",
        "print(a / b)  # division\n",
        "print(a ** b) # exponent (10^3)\n",
        "print(a % b) # modulus (remainder)\n",
        "print(a // b) # floor division\n"
      ]
    },
    {
      "cell_type": "markdown",
      "metadata": {
        "id": "o7-WyfF4ym8R"
      },
      "source": [
        "**Comparison of Python Operators:**\n",
        "\n",
        "In Python Comparison of Relational operators compares the values. It either returns True or False according to the condition."
      ]
    },
    {
      "cell_type": "code",
      "execution_count": null,
      "metadata": {
        "colab": {
          "base_uri": "https://localhost:8080/"
        },
        "id": "3AkZ7aLc9CST",
        "outputId": "1bd9d21d-eb09-4218-d45e-3f87d8cbf7ba"
      },
      "outputs": [
        {
          "name": "stdout",
          "output_type": "stream",
          "text": [
            "False\n",
            "True\n",
            "False\n",
            "True\n",
            "False\n",
            "True\n"
          ]
        }
      ],
      "source": [
        "a = 13\n",
        "b = 33\n",
        "\n",
        "print(a > b)\n",
        "print(a < b)\n",
        "print(a == b)\n",
        "print(a != b)\n",
        "print(a >= b)\n",
        "print(a <= b)"
      ]
    },
    {
      "cell_type": "code",
      "execution_count": null,
      "metadata": {
        "colab": {
          "base_uri": "https://localhost:8080/"
        },
        "id": "pCOYW9n_y2Gs",
        "outputId": "caf7b558-66ed-4ea7-f8c0-b8224437f461"
      },
      "outputs": [
        {
          "name": "stdout",
          "output_type": "stream",
          "text": [
            "False\n",
            "True\n",
            "False\n"
          ]
        }
      ],
      "source": [
        "a = True\n",
        "b = False\n",
        "print(a and b)\n",
        "print(a or b)\n",
        "print(not a)"
      ]
    },
    {
      "cell_type": "markdown",
      "metadata": {
        "id": "5IcZNWVP4fp8"
      },
      "source": [
        "# 🔔 Conditional Statements in Python\n",
        "\n",
        "**\"If\" statement:**\n",
        "\n",
        "The simplest form of a conditional statement. It executes a block of code if the given condition is true.\n",
        "\n",
        "**\"Else\" statement:**\n",
        "\n",
        "Else will execute if conditions associated with an if or elif statement fails.\n",
        "\n",
        "**\"Elif (else if)\" statement:**\n",
        "\n",
        "It allows us to check multiple conditions , providing a way to execute different blocks of code based on which condition is true\n"
      ]
    },
    {
      "cell_type": "code",
      "execution_count": null,
      "metadata": {
        "colab": {
          "base_uri": "https://localhost:8080/"
        },
        "id": "Jh7rXRb9ztRF",
        "outputId": "bd5828cb-22ae-4732-99dc-0106fe489931"
      },
      "outputs": [
        {
          "name": "stdout",
          "output_type": "stream",
          "text": [
            "You are an adult.\n"
          ]
        }
      ],
      "source": [
        "# age =25\n",
        "# if age >= 18:\n",
        "#   print(\"You are an adult.\")\n",
        "\n",
        "# age=25\n",
        "# if age>=18:\n",
        "#   print(\"You are an adult.\")\n",
        "# else:\n",
        "#   print(\"You are not an adult.\")\n",
        "\n",
        "age = 25\n",
        "if age <=18:\n",
        "  print(\"You are not an adult.\")\n",
        "elif age <=5:\n",
        "  print(\"You are not a child.\")\n",
        "elif age <=13:\n",
        "  print(\"You are not a teenager.\")\n",
        "else:\n",
        "  print(\"You are an adult.\")"
      ]
    },
    {
      "cell_type": "markdown",
      "metadata": {
        "id": "AhG6RzY-8RR7"
      },
      "source": [
        "**Nested if:**\n",
        "\n",
        " if-else statement inside another if statement. We can use nested if statements to check conditions within conditions."
      ]
    },
    {
      "cell_type": "code",
      "execution_count": null,
      "metadata": {
        "colab": {
          "base_uri": "https://localhost:8080/"
        },
        "id": "wCajMqyv8jMM",
        "outputId": "e4a4e18f-e580-492c-a7af-d3183532d35c"
      },
      "outputs": [
        {
          "name": "stdout",
          "output_type": "stream",
          "text": [
            "Enter your age: 36\n",
            "Valid data\n",
            "You are an adult.\n"
          ]
        }
      ],
      "source": [
        "age = int(input(\"Enter your age: \"))\n",
        "\n",
        "if age > 0:\n",
        "  print(\"Valid data\")\n",
        "  if age <=5:\n",
        "    print(\"You are not a child.\")\n",
        "  elif age <=13:\n",
        "    print(\"You are not a teenager.\")\n",
        "  elif age >=18:\n",
        "    print(\"You are an adult.\")\n",
        "  else:\n",
        "    print(\"You are an adult.\")\n",
        "else:\n",
        "  print(\"Invalid data\")"
      ]
    },
    {
      "cell_type": "markdown",
      "metadata": {
        "id": "sbA2iIqxDoN7"
      },
      "source": [
        "# ➰ **Loops in Python - For, While and Nested Loops**\n",
        "\n",
        "- Loops in Python are used to repeat actions efficiently.\n",
        "- The main types are For loops (counting through items) and While loops (based on conditions)"
      ]
    },
    {
      "cell_type": "markdown",
      "metadata": {
        "id": "gpoV6CMpEomD"
      },
      "source": [
        "**🔢 What is range()?**\n",
        "\n",
        "The `range()` function is used to **generate a sequence of numbers**.\n",
        "\n",
        "👉 Syntax:\n",
        "\n",
        "**range(start, stop, step)**\n",
        "\n",
        "- range(n) → 0 to n-1\n",
        "- range(start, end) → start to end-1\n",
        "- range(start, end, step) → skip by step size\n",
        "\n",
        "```python\n",
        "print(list(range(5)))        # [0, 1, 2, 3, 4]\n",
        "print(list(range(1, 6)))     # [1, 2, 3, 4, 5]\n",
        "print(list(range(2, 11, 2))) # [2, 4, 6, 8, 10]\n",
        "\n",
        "\n"
      ]
    },
    {
      "cell_type": "markdown",
      "metadata": {
        "id": "HaAdWjrJF5gc"
      },
      "source": [
        "🔹**Looping with for and range()**\n",
        "# 🔄 for loop + range()\n",
        "\n",
        "A `for` loop is used to repeat a block of code for each item in a sequence.\n",
        "\n",
        "Example: Print numbers from 0 to 4\n",
        "\n"
      ]
    },
    {
      "cell_type": "code",
      "execution_count": null,
      "metadata": {
        "id": "kL9NwK1yFqh_"
      },
      "outputs": [],
      "source": []
    },
    {
      "cell_type": "markdown",
      "metadata": {
        "id": "Mbx3lJtKGRDr"
      },
      "source": [
        " `i` is a **loop variable** that takes values from the `range()` one by one.\n",
        "\n",
        "Let’s break it down:\n",
        "- On first run: i = 0 → prints 0\n",
        "- Second run: i = 1 → prints 1\n",
        "- ...\n",
        "- Last run: i = 4 → prints 4\n"
      ]
    },
    {
      "cell_type": "markdown",
      "metadata": {
        "id": "Nb1nDcM0I8v0"
      },
      "source": [
        "# **Challenges** ⚡\n",
        "\n",
        "1. Print numbers from 10 to 20\n",
        "2. Print all odd numbers from 1 to 15\n",
        "3. Print \"Python is fun!\" 3 times\n",
        "4. Count down from 7 to 0\n",
        "\n",
        "\n",
        "\n"
      ]
    },
    {
      "cell_type": "code",
      "execution_count": null,
      "metadata": {
        "id": "RdbMJ__VKfiS"
      },
      "outputs": [],
      "source": []
    },
    {
      "cell_type": "markdown",
      "metadata": {
        "id": "ZnEhhafiK7w8"
      },
      "source": [
        "# 🔁 What is a while loop?\n",
        "\n",
        "A `while` loop repeats a block of code **as long as a condition is true**.\n",
        "\n",
        "🧠 It's like saying:\n",
        "\"Keep doing this **while** something is still true.\"\n",
        "\n",
        "``` python\n",
        "while condition:\n",
        "    # repeat this block\n"
      ]
    },
    {
      "cell_type": "markdown",
      "metadata": {
        "id": "80sMhtybLbm0"
      },
      "source": [
        "**Count from 1 to 5**"
      ]
    },
    {
      "cell_type": "code",
      "execution_count": null,
      "metadata": {
        "id": "xNVWrrIjK9uy"
      },
      "outputs": [],
      "source": [
        "i = 1\n",
        "while i <= 5:\n",
        "    print(i)\n",
        "    i = i + 1  # or i += 1"
      ]
    },
    {
      "cell_type": "markdown",
      "metadata": {
        "id": "SADa6k8YLuns"
      },
      "source": [
        "**Explanation:**\n",
        "- Starts with i = 1\n",
        "- Checks: is i <= 5?\n",
        "- If yes → prints i, then adds 1\n",
        "- Stops when i = 6\n"
      ]
    },
    {
      "cell_type": "markdown",
      "metadata": {
        "id": "P1sZNMhKL8OE"
      },
      "source": [
        "**Difference Between for and while**\n",
        "\n",
        "| Feature      | `for` loop                         | `while` loop                      |\n",
        "| ------------ | ---------------------------------- | --------------------------------- |\n",
        "| Use when     | You know how many times to repeat  | You **don’t know** how many times |\n",
        "| Based on     | Sequence (like `range()`)          | Condition                         |\n",
        "| Safer to use | Yes, less chance of infinite loops | Needs careful condition handling  |\n",
        "\n",
        "- ⚠️ Be careful!\n",
        "If your condition **never becomes False**, the loop will run forever!\n",
        "\n"
      ]
    },
    {
      "cell_type": "markdown",
      "metadata": {
        "id": "5W9k-78-MV50"
      },
      "source": [
        "✍ **Use Case: Ask Until Correct Password**"
      ]
    },
    {
      "cell_type": "code",
      "execution_count": null,
      "metadata": {
        "colab": {
          "base_uri": "https://localhost:8080/"
        },
        "id": "mf98fl6wLw9o",
        "outputId": "98bcb3a0-21f6-4458-9c33-968068543fb4"
      },
      "outputs": [
        {
          "name": "stdout",
          "output_type": "stream",
          "text": [
            "Enter the password: Abc1!\n",
            "Password Correct.\n"
          ]
        }
      ],
      "source": [
        "reg_password = Abc1!\n",
        "\n",
        "pwd = inpput(\"Enter your Password:\")\n",
        "while pwd != reg_password:\n",
        "  print(\"Incorrect password. Please Try again!\")"
      ]
    },
    {
      "cell_type": "markdown",
      "metadata": {
        "id": "K1JlCwVTheo3"
      },
      "source": [
        "# Controlling Loops with break and continue 🚲\n",
        "\n",
        "\n",
        "---\n",
        "\n",
        "# 🛑 break Statement\n",
        "\n",
        "The `break` statement is used to **exit** a loop before it finishes normally.\n",
        "\n",
        "Think of it like pressing an \"emergency stop\" button inside the loop.\n"
      ]
    },
    {
      "cell_type": "markdown",
      "metadata": {
        "id": "Zs6UHbo-i45X"
      },
      "source": [
        "**Stop loop when number equals 3**"
      ]
    },
    {
      "cell_type": "code",
      "execution_count": null,
      "metadata": {
        "id": "zSmRO3hjjIRQ"
      },
      "outputs": [],
      "source": []
    },
    {
      "cell_type": "markdown",
      "metadata": {
        "id": "kbMHSQrajYYv"
      },
      "source": [
        "**Stop asking for password after 3 tries**"
      ]
    },
    {
      "cell_type": "code",
      "execution_count": null,
      "metadata": {
        "id": "TaYRx1pSjZjC"
      },
      "outputs": [],
      "source": [
        "tries = 0\n",
        "reg_password = \"Abc1!\"\n",
        "while tries <=3:\n",
        "  pwd=input(\"Enter your Password:\")\n",
        "  if pwd == reg_password:\n",
        "    print(\"Access Granted!\")\n",
        "    break\n",
        "  else:\n",
        "    print(\"Incorrect password. Please Try again!\")\n",
        "    tries += 1"
      ]
    },
    {
      "cell_type": "markdown",
      "metadata": {
        "id": "ZpJeUSgJj6fI"
      },
      "source": [
        "# ↩️ continue Statement\n",
        "\n",
        "The `continue` statement is used to **skip the current iteration** and move to the next one.\n",
        "\n",
        "It’s like saying: \"Skip this one, go to the next.\""
      ]
    },
    {
      "cell_type": "markdown",
      "metadata": {
        "id": "EwrcyF1KkRGf"
      },
      "source": [
        "**Print only odd numbers**"
      ]
    },
    {
      "cell_type": "code",
      "execution_count": null,
      "metadata": {
        "id": "E3zw6gYBj-z5"
      },
      "outputs": [],
      "source": []
    },
    {
      "cell_type": "markdown",
      "metadata": {
        "id": "b13OimgCkUjP"
      },
      "source": [
        "| Statement  | What it does                               | Used in        |\n",
        "| ---------- | ------------------------------------------ | -------------- |\n",
        "| `break`    | Exits the loop immediately                 | `for`, `while` |\n",
        "| `continue` | Skips current iteration, continues looping | `for`, `while` |\n"
      ]
    },
    {
      "cell_type": "code",
      "execution_count": null,
      "metadata": {
        "id": "wU3jPOPrkVd1"
      },
      "outputs": [],
      "source": []
    },
    {
      "cell_type": "markdown",
      "metadata": {
        "id": "tirfLWIvkmAP"
      },
      "source": [
        "# 🧪 Try These:\n",
        "\n",
        "1. Loop from 1 to 20 and print numbers, but stop if the number is divisible by 7  \n",
        "2. Loop from 1 to 10 and skip even numbers  "
      ]
    },
    {
      "cell_type": "code",
      "execution_count": null,
      "metadata": {
        "colab": {
          "base_uri": "https://localhost:8080/"
        },
        "id": "J4JzDBCxknk1",
        "outputId": "52fd11fa-7ce4-4240-8cb3-a87c0cb145ae"
      },
      "outputs": [
        {
          "name": "stdout",
          "output_type": "stream",
          "text": [
            "1\n",
            "2\n",
            "3\n",
            "4\n",
            "5\n",
            "6\n"
          ]
        }
      ],
      "source": [
        "for i in range(1,21):\n",
        "  if i%7==0:\n",
        "    break\n",
        "  print(i)"
      ]
    },
    {
      "cell_type": "code",
      "execution_count": null,
      "metadata": {
        "colab": {
          "base_uri": "https://localhost:8080/"
        },
        "id": "NsKCUIRjkynq",
        "outputId": "7a584206-2e8c-4aa6-f028-b67188764f3d"
      },
      "outputs": [
        {
          "name": "stdout",
          "output_type": "stream",
          "text": [
            "1\n",
            "3\n",
            "5\n",
            "7\n",
            "9\n"
          ]
        }
      ],
      "source": [
        "for i in range(1,11):\n",
        "  if i%2==0:\n",
        "    continue\n",
        "  print(i)"
      ]
    },
    {
      "cell_type": "markdown",
      "source": [
        "# ✅ Break & continue\n",
        "\n",
        "- `break`: exit the loop early  \n",
        "- `continue`: skip the current loop cycle  \n",
        "- These help us write flexible, smarter loops\n",
        "\n"
      ],
      "metadata": {
        "id": "Rkxs-skMGUCG"
      }
    },
    {
      "cell_type": "markdown",
      "source": [
        "\n",
        "\n",
        "---\n",
        "\n",
        "\n",
        "# Strings in Python\n",
        "\n",
        "\n",
        "---\n",
        "\n",
        "**🔤 A string is a sequence of characters in quotes.**\n",
        "\n",
        "Examples:\n",
        "- \"Hello\"\n",
        "- 'Python'\n",
        "- \"123\"\n",
        "- \"True\"\n",
        "\n",
        "💡 Strings can be enclosed in:\n",
        "- Single quotes → `'Hello'`\n",
        "- Double quotes → `\"Hello\"`\n",
        "\n",
        "\n",
        "---\n",
        "**🪜 Strings are like arrays of characters.**\n",
        "**Each character has an index starting from 0.**\n",
        "\n",
        "word = \"Python\"\n",
        "\n",
        "Index:     0 1 2 3 4 5  \n",
        "Letters:   P y t h o n\n",
        "\n",
        "\n"
      ],
      "metadata": {
        "id": "ln8TYYq_cyqi"
      }
    },
    {
      "cell_type": "code",
      "source": [],
      "metadata": {
        "id": "QPOXQPvYFK27"
      },
      "execution_count": null,
      "outputs": []
    },
    {
      "cell_type": "markdown",
      "source": [
        "**✂️ You can extract a part of a string using slicing:**\n",
        "\n",
        "Syntax: `string[start:end]` → from start to end-1\n"
      ],
      "metadata": {
        "id": "slabZYOyfFBq"
      }
    },
    {
      "cell_type": "code",
      "source": [],
      "metadata": {
        "id": "JKGsYu6EfNW2"
      },
      "execution_count": null,
      "outputs": []
    },
    {
      "cell_type": "markdown",
      "source": [
        "**🔧 Common String Methods**\n",
        "\n",
        "\n",
        "---\n",
        "**Python has built-in string functions:**\n",
        "\n",
        "- lower()       → all lowercase\n",
        "- upper()       → all uppercase\n",
        "- strip()       → removes extra spaces\n",
        "- replace()     → replaces characters\n",
        "- find()        → finds position of a word\n",
        "- len()         → gives length of string\n",
        "\n"
      ],
      "metadata": {
        "id": "cEzAoEUJfQ2S"
      }
    },
    {
      "cell_type": "code",
      "source": [
        "word = \"Welcome\"\n",
        "print(len(word))"
      ],
      "metadata": {
        "colab": {
          "base_uri": "https://localhost:8080/"
        },
        "id": "cKHF9I38fj8L",
        "outputId": "824bc235-3288-48cb-ca31-3f13670f9f2d"
      },
      "execution_count": null,
      "outputs": [
        {
          "output_type": "stream",
          "name": "stdout",
          "text": [
            "7\n"
          ]
        }
      ]
    },
    {
      "cell_type": "markdown",
      "source": [
        "\n",
        "🔁 **You can use loops to access each character**\n",
        "\n"
      ],
      "metadata": {
        "id": "9jnn0ccshkAb"
      }
    },
    {
      "cell_type": "code",
      "source": [],
      "metadata": {
        "id": "beDXk8Pngyb5"
      },
      "execution_count": null,
      "outputs": []
    },
    {
      "cell_type": "markdown",
      "source": [
        "**✅ String Comparison & Membership**"
      ],
      "metadata": {
        "id": "pMldcBO4h9eC"
      }
    },
    {
      "cell_type": "code",
      "source": [
        "a = \"python\"\n",
        "b = \"Python\"\n",
        "\n",
        "# print(a == b)        # False (case-sensitive)\n",
        "# print(\"py\" in a)     # True\n",
        "# print(\"on\" not in a) # False"
      ],
      "metadata": {
        "id": "b_Ya3_Mlh-6s"
      },
      "execution_count": null,
      "outputs": []
    },
    {
      "cell_type": "code",
      "source": [],
      "metadata": {
        "id": "8_ENpsuWlAl3"
      },
      "execution_count": null,
      "outputs": []
    }
  ],
  "metadata": {
    "colab": {
      "provenance": [],
      "authorship_tag": "ABX9TyP7pBQY4ri/MpaKrF5ya44b",
      "include_colab_link": true
    },
    "kernelspec": {
      "display_name": "Python 3",
      "name": "python3"
    },
    "language_info": {
      "name": "python"
    }
  },
  "nbformat": 4,
  "nbformat_minor": 0
}